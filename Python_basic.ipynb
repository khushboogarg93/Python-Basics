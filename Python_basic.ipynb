{
  "nbformat": 4,
  "nbformat_minor": 0,
  "metadata": {
    "colab": {
      "provenance": []
    },
    "kernelspec": {
      "name": "python3",
      "display_name": "Python 3"
    },
    "language_info": {
      "name": "python"
    }
  },
  "cells": [
    {
      "cell_type": "markdown",
      "source": [
        "# Python Basics"
      ],
      "metadata": {
        "id": "JZHtukbnbGbe"
      }
    },
    {
      "cell_type": "markdown",
      "source": [
        "### 1. What is Python, and why is it popular\n",
        "      What\n",
        "\n",
        "\n",
        "   - Python is a Popular Programming Language developed in 1991 by Guido Van Rossam.\n",
        "\n",
        "   - Used to give instructions to Computer or Machine\n",
        "\n",
        "   - It is like a set of special rules and symbols that you use to give instructions to a machine.\n",
        "\n",
        "   - In simple terms, like in real life when two persons talk to each other and use the same language medium like english or hindi they can easily talk without any problem but when 1 person knows Hindi and other knows spanish then its difficult to talk and understand each other for that we need some translator who can translates their talks and make them understand.\n",
        "\n",
        "   - Simillarly, when human wants to communicate with machine or computer they need something in between who can translate their talks.\n",
        "\n",
        "   - Machines only understand binary language (0 or 1) and Humans simple language.\n",
        "\n",
        "   - So for to make them understand we have something in between i.e. IDE (Integrated development enviornment) where you can write the code using any programming language like python.\n",
        "\n",
        "   - And then that code will be read line by line by interpeter and convert to machine code like 0 or 1 that machine can understand.\n",
        "     \n",
        "\n",
        "```\n",
        "    Why is it Popular\n",
        "```\n",
        "   - Python has lot of enrich use cases widely used in the industries.\n",
        "\n",
        "   - Widely used in Data industry like Data Analytics, Data Scientist, Machine Learning, Artificial Intelligence.\n",
        "\n",
        "   - Lot of inbuild libraries which are well structure and optimized like Pandas, Numpy etc. (currently - 137000)\n",
        "\n",
        "   - Heavy rich active python community\n",
        "\n",
        "   - It has frontend, backend , Data analysis all the framework available in python.\n",
        "\n",
        "   - Automation\n",
        "\n",
        "   - Readability\n",
        "\n",
        "   - Image processing\n",
        "\n",
        "   - Interact with databases easily.\n",
        "\n",
        "   - Ease of learning\n",
        "\n",
        "   - Cross platform and Open source etc.\n",
        "\n",
        "\n",
        "---\n",
        "\n",
        "\n",
        "---\n",
        "\n",
        "### 2. What is an interpreter in Python\n",
        "   - In Python, an interpreter is the program that reads and executes Python code line by line.\n",
        "\n",
        "   - When you run a Python script ex- text.ipynb or py file), Python interpreter processes each line of code and carries out the instructions.\n",
        "\n",
        "   - It converts high-level code like written in Python into machine level instructions at runtime.\n",
        "\n",
        "   - In simple terms, like in real life when two persons talk to each other and use the same language medium like english or hindi they can easily talk without any problem but when 1 person knows Hindi and other knows spanish then its difficult to talk and understand each other for that we need some translator who can translates their talks and make them understand.\n",
        "\n",
        "   - Simillarly, when human wants to communicate with machine or computer they need something in between who can translate their talks.\n",
        "\n",
        "   - Machines only understand binary language (0 or 1) and Humans simple language.\n",
        "\n",
        "   - So for to make them understand we have something in between i.e. IDE (Integrated development enviornment) where you can write the code using any programming language like python.\n",
        "\n",
        "   - And then that code will be read line by line by interpeter and convert to machine code like 0 or 1 that machine can understand.\n",
        "\n",
        "---\n",
        "---\n",
        "\n",
        "### 3. What are pre-defined keywords in Python\n",
        "   - Pre defined keywords in python is something reserved words which having the special meaning that are part of python syntax and cannot be used as identifiers like in variable names and functions.\n",
        "\n",
        "   - Its meaning can not be changed its fixed and if you try to do that it will come up with lot of problems like suppose if we used print as a variable print = \"abc\" then it will not give any exception because then python will understand its a variable but next time when you try to print like print(\"hello\") it will throw the exception\n",
        "\n",
        "   - And to prevent this problem then you have restrat the kernel.\n",
        "\n",
        "   - There are many python predefined keywords that we can check using command help('keywords')\n",
        "   - There are many but few are commonly used like\n",
        "      1. type() => it is used to check the type of any variable for ex : x = \"Khushboo\" type(x) will result as str simmillary we can identify any of variable data type whether it is integer, boolean, float, string, complex etc.\n",
        "\n",
        "      2. print() => Used to print or display. ex- print(\"hello\") then output will be hello\n",
        "\n",
        "      3. input() => used to take inputs from the users, it always return output in string data type.\n",
        "       ex- var_text = input(\"please enter your name : \") then it prompt and user have to enter their name then we can use this variable for further executions.\n",
        "\n",
        "\n",
        "\n",
        "\n",
        "---\n",
        "---\n",
        "\n",
        "### 4. Can keywords be used as variable names\n",
        "   - Yes we can but its not recommended and not a good practice to use. Although it will not throw any exception when you use them as a variable but later on when you use them for further process it will be modified and throw exception.\n",
        "\n",
        "   - Then in that case we have only 1 choice left to restart the kernel.\n",
        "\n",
        "   - ex-  if we used print as a variable print = \"abc\" then it will not give any exception because then python will understand its a variable but next time when you try to print like print(\"hello\") it will throw the exception.\n",
        "\n",
        "   - So in real use cases dont use them as variable its not a good practice in python programming language.\n",
        "\n",
        "\n",
        "\n",
        "---\n",
        "---\n",
        "\n",
        "### 5. What is mutability in Python\n",
        "   - In Python Programming we have several data types and data structures like string, tuple, dictionary , list etc.\n",
        "\n",
        "   - If we can edit or modified them then its a mutable data type or data structure else no.\n",
        "\n",
        "   - In other words, if we can changed the state after they are created are called mutable objects or containers or item assignment in python i.e. mutability in python.\n",
        "\n",
        "   - for ex - List is a mutable object which supports item assignment.\n",
        "      list_container = [1, 2, 3, 4.5, 3+5j, true, \"Khushboo\"]\n",
        "      now if i want to change from \"Khushboo\" to \"Jyoti\" then its a mutable object.\n",
        "       \n",
        "      list_container[6] = \"Jyoti\" --- then it will be changed.\n",
        "\n",
        "\n",
        "---\n",
        "---\n",
        "\n",
        "### 6. Why are lists mutable, but tuples are immutable  \n",
        "   - Mutable -> if we can change the state of object after creation i.e. mutable objects. Some mutable objects like list, dictionary.\n",
        "   \n",
        "   - Immutable -> when we can't change state of object after creation i.e. Immutable objects. If we tried it throws exceptions. Some immutable objects like string, tuple.\n",
        "\n",
        "   - Now reason of lists are mutable is because we can change their state after even creation ex- List is a mutable object which supports item assignment.\n",
        "      list_container = [1, 2, 3, 4.5, 3+5j, true, \"Khushboo\"]\n",
        "      now if i want to change from \"Khushboo\" to \"Jyoti\" then its a mutable object.\n",
        "       \n",
        "      list_container[6] = \"Jyoti\" --- then it will be changed.\n",
        "\n",
        "    - But Tupes are immutable objects because when you tried to change their state after creation it will throw the exception ex - my_tuple = (1,2,3)\n",
        "     now if i want to change their first index value like my_tuple[0] = 10 then it will throw the exception because their state can't be changed after creation.\n",
        "\n",
        "\n",
        "\n",
        "---\n",
        "---\n",
        "\n",
        "### 7. What is the difference between “==” and “is” operators in Python   \n",
        "   - “==” and “is” both are operators in python.\n",
        "\n",
        "   - “==” is the Comparision operator, if we want to compare two values and based on that return output as boolean whether true or false i.e. Comparision equal operator in python.\n",
        "\n",
        "   - for ex -\n",
        "      a = 2\n",
        "      b = 2\n",
        "      if a == b:\n",
        "          print(true) // then output will be true else false\n",
        "\n",
        "    - Simmilar like “==” we have \"!=\" not equal operator , its a vice versa of equal operator.\n",
        "\n",
        "    - “is” is the Identity operator, it compares the memory block allocation is same or not or it is pointing to the same memory or not. if same it returns true else false as an output i.e. Identity operator in python.\n",
        "\n",
        "    - for ex- -\n",
        "       a = 2 // a is in another memory block\n",
        "       b = 3 // b is another memory block\n",
        "      if a is b: print(true) // if both are same then returns true else false.\n",
        "\n",
        "    - Simmilar like \"is\" we have \"is not\" operator , its a vice versa of is operator.\n",
        "\n",
        "---\n",
        "---\n",
        "\n",
        "### 8. What are logical operators in Python    \n",
        "   - Logical operators in python used to logically decide something.Also used to combine conditional statements.\n",
        "\n",
        "   - They are divided into 3 categories like 'AND', 'OR' and 'NOT'\n",
        "\n",
        "     1. AND -> It returns true when both or more than 2 conditions are true else false.so its mendatory for all the conditions to be true.They return either True or False based on the logic.We use keyword \"and\"\n",
        "     \n",
        "     ex - True and True = True\n",
        "          True and False = False\n",
        "          False and True = False\n",
        "          False and False = True\n",
        "\n",
        "     2. OR -> It returns true when any of the condition is true.so its not mendatory for all the conditions to be true.They return either True or False based on the logic.So in generally atleast 1 condition should be true in order to return output as True.We use keyword \"or\"\n",
        "     \n",
        "     ex - True or True = True\n",
        "          True or False = True\n",
        "          False or True = True\n",
        "          False or False = False\n",
        "\n",
        "      3. NOT -> When you reverse the result it comes under the NOT logical operator.We use keyword negation \"~\" or \"Not\"\n",
        "     \n",
        "     ex - not true = false\n",
        "          not false = true\n",
        "\n",
        "\n",
        "---\n",
        "---\n",
        "\n",
        "### 9. What is type casting in Python     \n",
        "   - Type casting in python is generally a data type conversion.Data type like int, str, float, bool etc.\n",
        "\n",
        "   - When we want to convert 1 data type to another data type then we used Type Casting in Python.\n",
        "\n",
        "   - We can check the type of any variable by using predefined keyword of python like \"type(variable_name)\"\n",
        "\n",
        "   - ex- \"2\" + 3\n",
        "        type(\"2\") => str\n",
        "        type(3) => int\n",
        "        when you try to add them it will throw the exception because both are different data types. In order to do any operation we need to make them both integer. So to make \"2\" to integer we need to do type casting\n",
        "        int(\"2\") + 3 = output will be 5 i.e. Type Casting.\n",
        "\n",
        "    - Type casting are of 2 types :\n",
        "       1. Implicit type conversion -> When python auto understand its an integer type so in general python understand the standard datatypes like int, float, bool etc.\n",
        "        ex- a = 5\n",
        "            type(a) // it returns int type.\n",
        "\n",
        "        ex - 2+5 // here both are int type that we can check using \"type\" predefined keyword here we dont need any type of type conversion python will auto understand and give us the result as in 8.\n",
        "\n",
        "       2. Explict Type Conversion - when you want to explictely convert the data type to make it compatible for further operation executions.\n",
        "        ex- \"2\"+ 3\n",
        "           2 => string type\n",
        "           3 => int type.\n",
        "\n",
        "    - Some good points to be noted -\n",
        "        1. Characters can not be converted - if you try to convert string to float like\n",
        "            a = \"Khushboo\"\n",
        "            float(a) // thorws exception as it is not understand by the numberline\n",
        "\n",
        "\n",
        "\n",
        "---\n",
        "---\n",
        "\n",
        "### 10. What is the difference between implicit and explicit type casting      \n",
        "   - There are 2 type of Type casting :\n",
        "       1. Implicit type conversion -> When python auto understand its an integer type so in general python understand the standard datatypes like int, float, bool etc.\n",
        "        ex- a = 5\n",
        "            type(a) // it returns int type.\n",
        "\n",
        "        ex - 2+5 // here both are int type that we can check using \"type\" predefined keyword here we dont need any type of type conversion python will auto understand and give us the result as in 8.\n",
        "\n",
        "       2. Explict Type Conversion - when you want to explictely convert the data type to make it compatible for further operation executions.\n",
        "        ex- \"2\"+ 3\n",
        "           2 => string type\n",
        "           3 => int type.\n",
        "\n",
        "    - Some good points to be noted -\n",
        "        1. Characters can not be converted - if you try to convert string to float like\n",
        "            a = \"Khushboo\"\n",
        "            float(a) // thorws exception as it is not understand by the numberline\n",
        "\n",
        "\n",
        "\n",
        "---\n",
        "---\n",
        "\n",
        "### 11. What is the purpose of conditional statements in Python       \n",
        "   - Conditional statements in Python are used to make decisions in code\n",
        "\n",
        "   - They allow our program to execute certain blocks of code only when specific conditions are met. Like If something is true then do this. else, do something else.\n",
        "\n",
        "   - It is used to control the flow of the program in python.\n",
        "\n",
        "   - It executes the code only under certain conditions.\n",
        "\n",
        "   - Also to make program flow more dynamic and versatile.\n",
        "\n",
        "   - There are 4 types of Conditional statements like -\n",
        "\n",
        "      1. If -> If condition true then execute block of code written below the indentation\n",
        "        ex- a = 5\n",
        "            if (a > 0):\n",
        "                print(\"The number is greater than 0\") // this will be printed.\n",
        "\n",
        "        ex- a = -1\n",
        "            if (a > 0):\n",
        "                print(\"The number is greater than 0\") // it will not print anything.\n",
        "\n",
        "      2. If-Else -> If condition is true then execute the true condition else execute the else condition written below\n",
        "        ex- a = 5\n",
        "            if (a > 0):\n",
        "                print(\"The number is greater than 0\"). // it will be printed\n",
        "            else:\n",
        "                print(\"Number is less than equal to 0\")\n",
        "\n",
        "      3. If-ElIf-Else -> If we have multiple conditions that requires multiple if else block then we need to use this conditional statement.\n",
        "        ex- a = 5\n",
        "            if (a > 5):\n",
        "                print(\"The number is greater than 5\")\n",
        "            elif (a < 5):\n",
        "                print(\"Number is less than 5\")\n",
        "            else:\n",
        "                print(\"Number is equal to 5\")\n",
        "\n",
        "\n",
        "      4. nested If-Else -> It has variety of conditions.\n",
        "        ex- a = 1\n",
        "            b = 6\n",
        "            if (a > 5):\n",
        "                if (b > 5):\n",
        "                    print(\"Both are greater than 5\")\n",
        "                else:\n",
        "                    print(\"a is greater than 5 but not b\")\n",
        "            else:\n",
        "                print(\"a is not greater than 5\")\n",
        "\n",
        "---\n",
        "---\n",
        "\n",
        "### 12. How does the elif statement work        \n",
        "   - Elif is a conditional statement in python used to execute flow of the code dynamically\n",
        "\n",
        "   - If-ElIf-Else -> If we have multiple conditions that requires multiple if else block then we need to use this conditional statement.\n",
        "        ex- a = 5\n",
        "            if (a > 5):\n",
        "                print(\"The number is greater than 5\")\n",
        "            elif (a < 5):\n",
        "                print(\"Number is less than 5\")\n",
        "            else:\n",
        "                print(\"Number is equal to 5\")\n",
        "\n",
        "   - Here it will print \"The number is greater than 5\"\n",
        "\n",
        "---\n",
        "---\n",
        "\n",
        "### 13. What is the difference between for and while loops        \n",
        "   - Both are comes under the loop statment in flow control of python programs. Both do the same thing, but with different control styles.\n",
        "\n",
        "   - Both can be use to acheive the same execution of the program and easy to write but still there are few use cases and differences available like -\n",
        "\n",
        "      1. While Loop -> It executes a block of code until a condition is met. \"while\" keyword is used for while looping.\n",
        "          - Syntax =>\n",
        "              n = 7\n",
        "              i = 1\n",
        "              while i < n:\n",
        "                  print(i)\n",
        "                  i = i + 1 // here output will be 1 2 3 4 5 6 (in vertical new line)\n",
        "\n",
        "          - It is used when you dont know how many times we need to iterate it as example above\n",
        "\n",
        "          - It can cause loop forever, if condition never becomes false and crash the system\n",
        "            like while true:\n",
        "                    print(\"This will run forever until you break it\")\n",
        "\n",
        "          - It loops as long as the condition it true.\n",
        "\n",
        "          - Its conditional based repitition.\n",
        "\n",
        "        2. For Loop -> It iterates over a sequence of elements like list , string.\n",
        "          - Syntax ->\n",
        "            for i in \"Khushboo\":\n",
        "                print(i) // output will be K h u s h b o o (in new line)\n",
        "\n",
        "          - It does not cause infinite loops since we have range here\n",
        "\n",
        "              ex - for i in range(0,10):\n",
        "                print(i) // output will 0 to 9 numbers will be printed\n",
        "\n",
        "          - It is used when we know how many times we need to loop it.\n",
        "\n",
        "          - Its has fixed repitition.\n",
        "\n",
        "   - These are some differences between them. We can choose whether while or for loops based on our scenarios or expertises. Both will result same.\n",
        "\n",
        "---\n",
        "---\n",
        "\n",
        "### 14. Describe a scenario where a while loop is more suitable than a for loop.        \n",
        "   - In Real application use cases like -\n",
        "\n",
        "      1. User attempt retry logins - In that case user can enter as many times as they want to enter their credentials but in some cases like finanicaial banking we can not apply this use case else it will lead a big problem in the system. But apart from finance its a good use case where we can use while loop instead of for loops.\n",
        "\n",
        "      2. While loop does not have fixed repitition and range but for loop has\n",
        "\n",
        "      3. Waiting for Sensor Data in a Smart Device - It will ping-pong again and again until it met the condition.\n",
        "\n",
        "      4. Monitoring a file or directory - it continously montior the system or file or directly until it requires.\n",
        "\n"
      ],
      "metadata": {
        "id": "lHYmLnd5bM-b"
      }
    },
    {
      "cell_type": "markdown",
      "source": [
        "# Practical Questions"
      ],
      "metadata": {
        "id": "XqOM3_lfISN6"
      }
    },
    {
      "cell_type": "code",
      "source": [
        "# 1. Write a Python program to print \"Hello, World\"\n",
        "print(\"Hello, World\")\n"
      ],
      "metadata": {
        "colab": {
          "base_uri": "https://localhost:8080/"
        },
        "id": "znqatlKFIRAn",
        "outputId": "69d05e85-2ac6-4930-e20d-6b4a602bd5f1"
      },
      "execution_count": null,
      "outputs": [
        {
          "output_type": "stream",
          "name": "stdout",
          "text": [
            "Hello, World\n"
          ]
        }
      ]
    },
    {
      "cell_type": "code",
      "source": [
        "# 2. Write a Python program that displays your name and age\n",
        "\n",
        "name = input(\"Please enter your name: \")\n",
        "age = input(\"Please enter your age: \")\n",
        "print(f\"My name is {name} and my age is {age}.\")"
      ],
      "metadata": {
        "id": "frqiupsaIi3_",
        "colab": {
          "base_uri": "https://localhost:8080/"
        },
        "outputId": "ec03de3e-49df-46fc-a3e5-c8eb015030ac"
      },
      "execution_count": 5,
      "outputs": [
        {
          "output_type": "stream",
          "name": "stdout",
          "text": [
            "Please enter your name: khushboo\n",
            "Please enter your age: 18\n",
            "My name is khushboo and my age is 18.\n"
          ]
        }
      ]
    },
    {
      "cell_type": "code",
      "source": [
        "# 3. Write code to print all the pre-defined keywords in Python using the keyword library.\n",
        "print(\"Printing python predefined keywords :\")\n",
        "help('keywords')"
      ],
      "metadata": {
        "id": "Qc0l4Uo8JCB-",
        "colab": {
          "base_uri": "https://localhost:8080/"
        },
        "outputId": "57b0deea-bf2d-4035-baba-da44df107883"
      },
      "execution_count": 11,
      "outputs": [
        {
          "output_type": "stream",
          "name": "stdout",
          "text": [
            "Printing python predefined keywords :\n",
            "\n",
            "Here is a list of the Python keywords.  Enter any keyword to get more help.\n",
            "\n",
            "False               class               from                or\n",
            "None                continue            global              pass\n",
            "True                def                 if                  raise\n",
            "and                 del                 import              return\n",
            "as                  elif                in                  try\n",
            "assert              else                is                  while\n",
            "async               except              lambda              with\n",
            "await               finally             nonlocal            yield\n",
            "break               for                 not                 \n",
            "\n"
          ]
        }
      ]
    },
    {
      "cell_type": "code",
      "source": [
        "# 4. Write a program that checks if a given word is a Python keyword.\n",
        "import keyword\n",
        "\n",
        "check_word = input(\"Please enter your word: \")\n",
        "if (keyword.iskeyword(check_word)):\n",
        "  print(\"Given word is a python keyword.\")\n",
        "else:\n",
        "  print(\"Given word is not a python keyword.\")\n"
      ],
      "metadata": {
        "id": "nmyzlPXWJMtG",
        "colab": {
          "base_uri": "https://localhost:8080/"
        },
        "outputId": "f4b7a8f3-cc2d-43f9-89cc-cf48316a692c"
      },
      "execution_count": 14,
      "outputs": [
        {
          "output_type": "stream",
          "name": "stdout",
          "text": [
            "Please enter your word: taste\n",
            "Given word is not a python keyword.\n"
          ]
        }
      ]
    },
    {
      "cell_type": "code",
      "source": [
        "'''\n",
        "5. Create a list and tuple in Python, and demonstrate how attempting to change an element works differently\n",
        "for each.\n",
        "'''\n",
        "\n",
        "# creating a list\n",
        "list_container = [1,2.5,3+2j,\"Khushboo\"]\n",
        "print(\"original list: \", list_container)\n",
        "\n",
        "# modify the list as list is mutable object\n",
        "list_container[3] = \"Arvind\"\n",
        "print(\"modified list: \", list_container)\n",
        "\n",
        "# creating a tuple\n",
        "tuple_data = (1,2,3)\n",
        "print(\"original tuple: \", tuple_data)\n",
        "\n",
        "# modified tuple will throw the exception as tuples are immutable objects.\n",
        "tuple_data[2] = 5\n",
        "print(\"modified tuple: \", tuple_data)\n",
        "\n"
      ],
      "metadata": {
        "id": "eB5FHdlJJQUB"
      },
      "execution_count": null,
      "outputs": []
    },
    {
      "cell_type": "code",
      "source": [
        "# 6. Write a function to demonstrate the behavior of mutable and immutable arguments.\n",
        "\n",
        "def modify(value, list):\n",
        "    value = 100       # Try changing the number (immutable object)\n",
        "    list.append(4)   # Try changing the list (mutable object)\n",
        "\n",
        "# Immutable variable (int)\n",
        "x = 10\n",
        "\n",
        "# Mutable variable (list)\n",
        "y = [1, 2, 3]\n",
        "\n",
        "modify(x, y)\n",
        "\n",
        "print(\"x int variable after function call: \", x)       # Still 10 because it is immutable\n",
        "print(\"y after function call:\", y)       # Now [1, 2, 3, 4] it is modified because it is mutable"
      ],
      "metadata": {
        "id": "KELvdiHdJVyQ",
        "colab": {
          "base_uri": "https://localhost:8080/"
        },
        "outputId": "783029d6-6499-402a-bd14-488cdf4b342f"
      },
      "execution_count": 71,
      "outputs": [
        {
          "output_type": "stream",
          "name": "stdout",
          "text": [
            "x int variable after function call:  10\n",
            "y after function call: [1, 2, 3, 4]\n"
          ]
        }
      ]
    },
    {
      "cell_type": "code",
      "source": [
        "# 7.  Write a program that performs basic arithmetic operations on two user-input numbers.\n",
        "num1 = int(input(\"Please enter your 1st number: \"))\n",
        "num2 = int(input(\"Please enter your 2nd number: \"))\n",
        "add = num1 + num2\n",
        "substract = num1 - num2\n",
        "multiplication = num1 * num2\n",
        "division = num1 / num2\n",
        "floor_division = num1 // num2\n",
        "remainder = num1 % num2\n",
        "expression = num1 ** num2\n",
        "\n",
        "print()\n",
        "print(\"Performing arithmetic operations.\")\n",
        "print()\n",
        "print(f\"Addition: {num1} + {num2} = {add}\")\n",
        "print()\n",
        "print(f\"Substraction: {num1} - {num2} = {substract}\")\n",
        "print()\n",
        "print(f\"Multiplication: {num1} * {num2} = {multiplication}\")\n",
        "print()\n",
        "print(f\"division: {num1} / {num2} = {division}\")\n",
        "print()\n",
        "print(f\"Floor division: {num1} // {num2} = {floor_division}\")\n",
        "print()\n",
        "print(f\"Remainder: {num1} % {num2} = {remainder}\")\n",
        "print()\n",
        "print(f\"Expression: {num1} ** {num2} = {expression}\")\n",
        "print()\n",
        "print(\"Ending of arithmetic operations.\")"
      ],
      "metadata": {
        "id": "B17ccKBoJwHe",
        "colab": {
          "base_uri": "https://localhost:8080/"
        },
        "outputId": "c30b9f7e-1363-4620-9a04-b56b57562805"
      },
      "execution_count": 26,
      "outputs": [
        {
          "output_type": "stream",
          "name": "stdout",
          "text": [
            "Please enter your 1st number: 10\n",
            "Please enter your 2nd number: 5\n",
            "\n",
            "Performing arithmetic operations.\n",
            "\n",
            "Addition: 10 + 5 = 15\n",
            "\n",
            "Substraction: 10 - 5 = 5\n",
            "\n",
            "Multiplication: 10 * 5 = 50\n",
            "\n",
            "division: 10 / 5 = 2.0\n",
            "\n",
            "Floor division: 10 // 5 = 2\n",
            "\n",
            "Remainder: 10 % 5 = 0\n",
            "\n",
            "Expression: 10 ** 5 = 100000\n",
            "\n",
            "Ending of arithmetic operations.\n"
          ]
        }
      ]
    },
    {
      "cell_type": "code",
      "source": [
        "# 8. Write a program to demonstrate the use of logical operators.\n",
        "a = int(input(\"Please enter your 1st number a: \"))\n",
        "b = int(input(\"Please enter your 2nd number b: \"))\n",
        "\n",
        "# AND Logical operator - when both or all given conditions must be true in order to return output as true as it will be false\n",
        "if ((a > 10) and (b < 9)):\n",
        "  print(\"Both conditions are true, it returns true\")\n",
        "else:\n",
        "  print(\"Not True, it returns false\")\n",
        "\n",
        "# OR Logical Operator - when atleast 1 condition is met then it returns true else false\n",
        "if ((a > 10) or (b < 9)):\n",
        "  print(\"atleast 1 conditions is met, it returns true\")\n",
        "else:\n",
        "  print(\"Not any of the condition is met, it returns false\")\n",
        "\n",
        "# not operator\n",
        "print(f\"First number is not negative: {not a < 0}\")\n",
        "print(f\"Second number is not negative: {not b > 0}\")\n"
      ],
      "metadata": {
        "id": "pM6JSGE7JyGv",
        "colab": {
          "base_uri": "https://localhost:8080/"
        },
        "outputId": "bf529bff-fc06-4e9b-8218-5997d8705539"
      },
      "execution_count": 33,
      "outputs": [
        {
          "output_type": "stream",
          "name": "stdout",
          "text": [
            "Please enter your 1st number a: 1\n",
            "Please enter your 2nd number b: 0\n",
            "Not True, it returns false\n",
            "atleast 1 conditions is met, it returns true\n",
            "First number is not negative: True\n",
            "Second number is not negative: True\n"
          ]
        }
      ]
    },
    {
      "cell_type": "code",
      "source": [
        "# 9. Write a Python program to convert user input from string to integer, float, and boolean types.\n",
        "num1 = input(\"Please enter your number: \")\n",
        "print(f\"Convert num1 to integer:  {int(num1)}\")\n",
        "print(f\"Convert num1 to float:  {float(num1)}\")\n",
        "print(f\"Convert num1 to boolean:  {bool(num1)}\")"
      ],
      "metadata": {
        "id": "C0BU7K1TJ1J3",
        "colab": {
          "base_uri": "https://localhost:8080/"
        },
        "outputId": "69146e21-dbf1-43b1-df45-88247678e394"
      },
      "execution_count": 36,
      "outputs": [
        {
          "output_type": "stream",
          "name": "stdout",
          "text": [
            "Please enter your number: 10\n",
            "Convert num1 to integer:  10\n",
            "Convert num1 to float:  10.0\n",
            "Convert num1 to boolean:  True\n"
          ]
        }
      ]
    },
    {
      "cell_type": "code",
      "source": [
        "# 10. Write code to demonstrate type casting with list elements.\n",
        "list_container = ['10', '15', '40', '0', '']\n",
        "print(f\"original list: {list_container}\")\n",
        "\n",
        "# Convert to int type\n",
        "int_list_container = [int(x) for x in list_container if x.isdigit()]\n",
        "print(f\"Convert original list to integer list: {int_list_container}\")\n",
        "\n",
        "# Convert to float type\n",
        "float_list_container = [float(x) for x in list_container if x.replace('.', '', 1).isdigit()]\n",
        "print(f\"Convert original list to float list: {float_list_container}\")\n",
        "\n",
        "# Convert to boolean type\n",
        "bool_list_container = [bool(x) for x in list_container]\n",
        "print(f\"Convert original list to bool list: {bool_list_container}\")\n"
      ],
      "metadata": {
        "id": "zNU4FYwKJ4M0",
        "colab": {
          "base_uri": "https://localhost:8080/"
        },
        "outputId": "785ac6b6-8ff5-4de5-9757-5a5243fbd199"
      },
      "execution_count": 45,
      "outputs": [
        {
          "output_type": "stream",
          "name": "stdout",
          "text": [
            "original list: ['10', '15', '40', '0', '']\n",
            "Convert original list to integer list: [10, 15, 40, 0]\n",
            "Convert original list to float list: [10.0, 15.0, 40.0, 0.0]\n",
            "Convert original list to bool list: [True, True, True, True, False]\n"
          ]
        }
      ]
    },
    {
      "cell_type": "code",
      "source": [
        "# 11. Write a program that checks if a number is positive, negative, or zero.\n",
        "number = int(input(\"Please enter your number: \"))\n",
        "\n",
        "if (number > 0):\n",
        "  print(f\"Given number {number} is positive.\")\n",
        "elif (number < 0):\n",
        "  print(f\"Given number {number} is negative.\")\n",
        "else:\n",
        "  print(f\"Given number {number} is equal to Zero.\")"
      ],
      "metadata": {
        "id": "x6oK3wkvJ8Jp",
        "colab": {
          "base_uri": "https://localhost:8080/"
        },
        "outputId": "5bb99085-91a6-4f5d-8381-7fd7f3484146"
      },
      "execution_count": 51,
      "outputs": [
        {
          "output_type": "stream",
          "name": "stdout",
          "text": [
            "Please enter your number: 1\n",
            "Given number 1 is positive.\n"
          ]
        }
      ]
    },
    {
      "cell_type": "code",
      "source": [
        "# 12. Write a for loop to print numbers from 1 to 10\n",
        "for x in range(1,11):\n",
        "  print(x, end = (\" \"))"
      ],
      "metadata": {
        "id": "AsV_jy78J_G-",
        "colab": {
          "base_uri": "https://localhost:8080/"
        },
        "outputId": "3974d288-d317-491f-8967-58394d9eaf81"
      },
      "execution_count": 55,
      "outputs": [
        {
          "output_type": "stream",
          "name": "stdout",
          "text": [
            "1 2 3 4 5 6 7 8 9 10 "
          ]
        }
      ]
    },
    {
      "cell_type": "code",
      "source": [
        "# 13. Write a Python program to find the sum of all even numbers between 1 and 50\n",
        "sum = 0\n",
        "for x in range(1,51):\n",
        "  if (x % 2 == 0):\n",
        "    sum = sum + x\n",
        "print(f\"Sum of all even numbers between 1 and 50 is : {sum}\")\n"
      ],
      "metadata": {
        "id": "K9PwLULBKDhi",
        "colab": {
          "base_uri": "https://localhost:8080/"
        },
        "outputId": "93cf8a18-3f7e-4d44-9f37-6c7c6c090e5b"
      },
      "execution_count": 56,
      "outputs": [
        {
          "output_type": "stream",
          "name": "stdout",
          "text": [
            "Sum of all even numbers between 1 and 50 is : 650\n"
          ]
        }
      ]
    },
    {
      "cell_type": "code",
      "source": [
        "# 14. Write a program to reverse a string using a while loop\n",
        "reversed_string = \"\"\n",
        "string_value = input(\"Please enter your string value: \")\n",
        "\n",
        "#find index of string_value\n",
        "length_currentString = len(string_value) - 1\n",
        "\n",
        "while(length_currentString >= 0):\n",
        "  reversed_string += string_value[length_currentString]\n",
        "  length_currentString -= 1\n",
        "\n",
        "print(f\"Reverse string of original string {string_value} is : {reversed_string}\")\n"
      ],
      "metadata": {
        "id": "4Z3e2ikwKGhR",
        "colab": {
          "base_uri": "https://localhost:8080/"
        },
        "outputId": "ca6db687-93bf-4d65-ca64-20c7184501d6"
      },
      "execution_count": 63,
      "outputs": [
        {
          "output_type": "stream",
          "name": "stdout",
          "text": [
            "Please enter your string value: hELLO\n",
            "Reverse string of original string hELLO is : OLLEh\n"
          ]
        }
      ]
    },
    {
      "cell_type": "code",
      "source": [
        "# 15. Write a Python program to calculate the factorial of a number provided by the user using a while loop.\n",
        "\n",
        "#Factorial is something like 3! = 3*2*1 = 6\n",
        "\n",
        "number = int(input(\"Please enter your number: \"))\n",
        "if number < 0:\n",
        "    print(\"Number should be greater than 0\")\n",
        "else:\n",
        "  factorial = number\n",
        "  while number > 1:\n",
        "    factorial *= (number-1)\n",
        "    number -=1\n",
        "\n",
        "  print(f\"Factorial of a given number is : {factorial}\")\n"
      ],
      "metadata": {
        "id": "D23tYeROKKmY",
        "colab": {
          "base_uri": "https://localhost:8080/"
        },
        "outputId": "acef1a26-c5cb-4842-cf28-e6e60fbe1721"
      },
      "execution_count": 70,
      "outputs": [
        {
          "output_type": "stream",
          "name": "stdout",
          "text": [
            "Please enter your number: 5\n",
            "Factorial of a given number is : 120\n"
          ]
        }
      ]
    }
  ]
}